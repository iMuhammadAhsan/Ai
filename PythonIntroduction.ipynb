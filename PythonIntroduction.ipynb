{
 "cells": [
  {
   "cell_type": "markdown",
   "metadata": {
    "nbpresent": {
     "id": "443c97db-8846-4e75-ad8e-7b1f27dc56e6"
    }
   },
   "source": [
    "# Python Introductory Session "
   ]
  },
  {
   "cell_type": "markdown",
   "metadata": {
    "nbpresent": {
     "id": "a15323a4-f3f6-4ec4-86b3-d40a5af03deb"
    }
   },
   "source": [
    "### About Python\n",
    "\n",
    "#### Portability ---- Python runs everywhere, runs on every Operating System. Python takes care itself.\n",
    "#### Coherence ---- Most of the time you can guess how a method is called, if you dont know it.\n",
    "#### Developer Productivity ---- A python program is typically one fifth the size of equivalent Java or C++ programming languages\n",
    "#### An extensive library ---- Python community all around the world, free access to PYPI(Python Package Index)"
   ]
  },
  {
   "cell_type": "markdown",
   "metadata": {
    "nbpresent": {
     "id": "6210076f-2d1b-44b2-afbc-bae4db0be68d"
    }
   },
   "source": [
    "### Python 2 Versus Python 3 -- do check the difference in both of them"
   ]
  },
  {
   "cell_type": "markdown",
   "metadata": {
    "nbpresent": {
     "id": "2ce53708-a91e-41b9-a203-7c6d27acf0a5"
    }
   },
   "source": [
    "### Installing Python 3 -- Make sure python 3 is installed"
   ]
  },
  {
   "cell_type": "markdown",
   "metadata": {
    "nbpresent": {
     "id": "2f4df3fe-57a0-4612-b656-bed14618b433"
    }
   },
   "source": [
    "### Installing Anaconda and Jupyter Notebook"
   ]
  },
  {
   "cell_type": "code",
   "execution_count": 115,
   "metadata": {},
   "outputs": [
    {
     "name": "stdout",
     "output_type": "stream",
     "text": [
      "Python version 3.5.5 |Anaconda custom (64-bit)| (default, Mar 12 2018, 23:12:44) \n",
      "[GCC 7.2.0]\n"
     ]
    }
   ],
   "source": [
    "import sys\n",
    "print (\"Python version\",sys.version)"
   ]
  },
  {
   "cell_type": "markdown",
   "metadata": {
    "nbpresent": {
     "id": "cd2041dd-9f23-45ef-b001-e9a67d83ca20"
    }
   },
   "source": [
    "#### In python everything is an object --- Methods are things that an object can do.\n",
    "\n",
    "            \"Objects are Python's abstraction for data. All data in a Python program is represented\n",
    "                                    by objects or by relations between objects.\"\n"
   ]
  },
  {
   "cell_type": "markdown",
   "metadata": {
    "nbpresent": {
     "id": "34264fdf-1f03-4a67-9447-db7d140ee377"
    }
   },
   "source": [
    "# Getting Started"
   ]
  },
  {
   "cell_type": "markdown",
   "metadata": {},
   "source": [
    "### Two types Data type\n",
    "##### Immutables and Immutables\n",
    "\n",
    "#### Immutables Data types : Their address cannot be changed\n",
    "#### While Mutables Data Types : Their address can be changed \n"
   ]
  },
  {
   "cell_type": "code",
   "execution_count": 17,
   "metadata": {},
   "outputs": [
    {
     "name": "stdout",
     "output_type": "stream",
     "text": [
      "Person Age is  25\n",
      "Person Address in Memory 140161905610144 Person age Address in Memory 94211735126848\n",
      "++++++++++++++++++++++++++++++++++++\n",
      "Person Age is  26\n",
      "Person Address in Memory 140161905610144 Person age Address in Memory 94211735126880\n",
      "++++++++++++++++++++++++++++++++++++\n",
      "Notice that Person address In Memory is same while the age before it was pointing to 25 of Address in Memory \n",
      "But now it is pointing to 26 of Address in Memory\n"
     ]
    }
   ],
   "source": [
    "# Example for Mutable Data types\n",
    "\n",
    "class Person:\n",
    "    def __init__(self, age):\n",
    "        self.age= age\n",
    "\n",
    "fab= Person(age=25)\n",
    "print(\"Person Age is \",fab.age)\n",
    "print(\"Person Address in Memory\", id(fab),\"Person age Address in Memory\", id(fab.age))\n",
    "\n",
    "print(\"++++++++++++++++++++++++++++++++++++\")\n",
    "fab.age= 26  # here age is changed\n",
    "print(\"Person Age is \",fab.age)\n",
    "print(\"Person Address in Memory\", id(fab),\"Person age Address in Memory\", id(fab.age))\n",
    "print(\"++++++++++++++++++++++++++++++++++++\")\n",
    "\n",
    "print(\"Notice that Person address In Memory is same while the age before it was pointing to 25 of Address\" \n",
    "      \" in Memory \\nBut now it is pointing to 26 of Address in Memory\")"
   ]
  },
  {
   "cell_type": "code",
   "execution_count": 20,
   "metadata": {},
   "outputs": [
    {
     "name": "stdout",
     "output_type": "stream",
     "text": [
      "94211735126368\n",
      "94211735126368\n",
      "94211735126432\n"
     ]
    }
   ],
   "source": [
    "# Example for Mutable Data Types\n",
    "x = 10\n",
    "print(id(x))\n",
    "y = 10\n",
    "print(id(y))\n",
    "\n",
    "x= 12 # here address is changed because x is pointing to 12 now\n",
    "print(id(x)) "
   ]
  },
  {
   "cell_type": "code",
   "execution_count": 35,
   "metadata": {},
   "outputs": [
    {
     "name": "stdout",
     "output_type": "stream",
     "text": [
      "[1, 2, 2, 34, 54, 4, 1] <class 'list'> 140161974294920\n",
      "[1, 2, 2, 34, 54, 4, 1] <class 'list'> 140161974294920\n",
      "140161974294920 140161974294920\n"
     ]
    }
   ],
   "source": [
    "# Example for Immutable Data Types\n",
    "n = [1,2,2,34,54,4,1]\n",
    "print(n, type(n),id(n))\n",
    "m= n \n",
    "print(m, type(m), id(m))\n",
    "n.pop()\n",
    "print(id(n), id(m)) # Since poping Element from a list does not changes the address of list (Immutables)"
   ]
  },
  {
   "cell_type": "markdown",
   "metadata": {},
   "source": [
    "### Lets start with the Data types"
   ]
  },
  {
   "cell_type": "code",
   "execution_count": 36,
   "metadata": {},
   "outputs": [
    {
     "name": "stdout",
     "output_type": "stream",
     "text": [
      "2 <class 'int'>\n"
     ]
    }
   ],
   "source": [
    "# Integer\n",
    "a = 2 \n",
    "print(a, type(a))"
   ]
  },
  {
   "cell_type": "code",
   "execution_count": 44,
   "metadata": {},
   "outputs": [
    {
     "name": "stdout",
     "output_type": "stream",
     "text": [
      "Syed Kazim Hussain <class 'str'>\n",
      "S\n",
      "Syed Kazim\n",
      "ydKzm\n",
      "y z\n"
     ]
    }
   ],
   "source": [
    "# String \n",
    "name = \"Syed Kazim Hussain\"\n",
    "print(name, type(name))\n",
    "\n",
    "# Accessing element in string\n",
    "print(name[0]) # Zeroth element\n",
    "print(name[:10]) # from Zero to element 9, 10 exclusive\n",
    "print(name[1:10:2]) # from index 1 to 9 , steps 2(skip one element then other)\n",
    "print(name[1:10:3]) # from index 1 to 9"
   ]
  },
  {
   "cell_type": "code",
   "execution_count": 47,
   "metadata": {},
   "outputs": [
    {
     "name": "stdout",
     "output_type": "stream",
     "text": [
      "True <class 'bool'>\n",
      "True\n"
     ]
    }
   ],
   "source": [
    "# Boolean\n",
    "a = True\n",
    "print(a, type(a))\n",
    "a = 1 \n",
    "print(bool(a))"
   ]
  },
  {
   "cell_type": "code",
   "execution_count": 63,
   "metadata": {},
   "outputs": [
    {
     "name": "stdout",
     "output_type": "stream",
     "text": [
      "[] <class 'list'>\n",
      "[1, 2, 3, 4, 5, 6, 7] <class 'list'>\n",
      "[0, 1, 2, 3, 4, 5, 6, 7, 8, 9] <class 'list'>\n",
      "['H', 'e', 'l', 'l', 'o', ' ', 'W', 'o', 'r', 'l', 'd'] <class 'list'>\n",
      "['H', 'e', 'l', 'l', 'o', ' ', 'W', 'o', 'r', 'l', 'd', '.']\n",
      "3\n",
      "5\n"
     ]
    }
   ],
   "source": [
    "# List\n",
    "# # way of initializing List\n",
    "a= list() \n",
    "print(a,type(a))\n",
    "\n",
    "b= [1,2,3,4,5,6,7]\n",
    "print(b,type(b))\n",
    "\n",
    "c = [x for x in range(10)]\n",
    "print(c,type(c))\n",
    "\n",
    "d = list(\"Hello World\")\n",
    "print(d,type(d))\n",
    "\n",
    "d.append('.')\n",
    "print(d)\n",
    "print(d.count('l'))\n",
    "\n",
    "\n",
    "str1= 'lets learning python' \n",
    "[d.append(x) for x in str1]\n",
    "print(d.count('l'))\n",
    "\n",
    "# more methods\n",
    "# t.index('K') tells the position of K\n",
    "# t.insert(0,'M') inserts M at 0 position\n",
    "# t.pop() remove last element in the list\n",
    "# t.remove('K') removes K from List\n",
    "# t.reverse() reverse the list\n",
    "# t.sort() sorts the list\n",
    "# t.clear() empty the list"
   ]
  },
  {
   "cell_type": "code",
   "execution_count": 69,
   "metadata": {
    "collapsed": true
   },
   "outputs": [
    {
     "name": "stdout",
     "output_type": "stream",
     "text": [
      "iphone 4\n",
      "iphone 3GS\n",
      "iphone 3G\n",
      "iphone 5\n",
      "iphone 4S\n",
      "iphone\n",
      "++++++++++++++++++++++++++++++++++++++++++++++++++++++++++++++++++++++++++\n",
      "iphone 4 =>  2010\n",
      "iphone 3GS =>  2009\n",
      "iphone 3G =>  2008\n",
      "iphone 5 =>  2012\n",
      "iphone 4S =>  2011\n",
      "iphone =>  2007\n",
      "++++++++++++++++++++++++++++++++++++++++++++++++++++++++++++++++++++++++++\n",
      "2011\n",
      "kazim\n",
      "++++++++++++++++++++++++++++++++++++++++++++++++++++++++++++++++++++++++++\n",
      "<class 'dict'> {1: 1, 2: 4, 3: 9, 4: 16, 5: 25, 6: 36, 7: 49, 8: 64, 9: 81}\n",
      "++++++++++++++++++++++++++++++++++++++++++++++++++++++++++++++++++++++++++\n",
      "Are they all same?\n",
      "Yes\n"
     ]
    }
   ],
   "source": [
    "# Dictionary \n",
    "\n",
    "released = {\n",
    "\"iphone\" : 2007,\n",
    "\"iphone 3G\" : 2008,\n",
    "\"iphone 3GS\" : 2009,\n",
    "\"iphone 4\" : 2010,\n",
    "\"iphone 4S\" : 2011,\n",
    "\"iphone 5\" : 2012\n",
    "}\n",
    "\n",
    "for release in released:\n",
    "    print (release)\n",
    "    \n",
    "print(\"++++++++++++++++++++++++++++++++++++++++++++++++++++++++++++++++++++++++++\")\n",
    "for key,val in released.items():\n",
    "    print (key, \"=> \", val)\n",
    "    \n",
    "print(\"++++++++++++++++++++++++++++++++++++++++++++++++++++++++++++++++++++++++++\")\n",
    "\n",
    "if 'iphone 4S' in released:\n",
    "    print(released['iphone 4S'])\n",
    "    released['iphone 4S'] = 'kazim'\n",
    "    print(released['iphone 4S'])\n",
    "    \n",
    "    \n",
    "\n",
    "print(\"++++++++++++++++++++++++++++++++++++++++++++++++++++++++++++++++++++++++++\")\n",
    "testDict = {x: x**2 for x in range(1,10)}\n",
    "print(type(testDict),testDict)\n",
    "\n",
    "print(\"++++++++++++++++++++++++++++++++++++++++++++++++++++++++++++++++++++++++++\")\n",
    "\n",
    "# Ways of Initializing Dictionaries\n",
    "a = dict(A=1, Z=-1)\n",
    "b = {'A': 1, 'Z': -1}\n",
    "c = dict(zip(['A', 'Z'], [1, -1]))\n",
    "d = dict([('A', 1), ('Z', -1)])\n",
    "e = dict({'Z': -1, 'A': 1})\n",
    "print(\"Are they all same?\")\n",
    "print(\"Yes\") if a == b == c == d == e else print(\"No\") # Conditional Statement for "
   ]
  },
  {
   "cell_type": "code",
   "execution_count": 91,
   "metadata": {},
   "outputs": [
    {
     "name": "stdout",
     "output_type": "stream",
     "text": [
      "Numbers from 0 to 10 [0, 1, 2, 3, 4, 5, 6, 7, 8, 9]\n",
      "+++++++++++++++++++++++++++++++++++++++++++++++++++++++\n",
      "Even Numbers [0, 2, 4, 6, 8]\n",
      "+++++++++++++++++++++++++++++++++++++++++++++++++++++++\n",
      "Odd Numbers  [1, 3, 5, 7, 9]\n",
      "+++++++++++++++++++++++++++++++++++++++++++++++++++++++\n",
      "[[1, 'A'], [1, 'B'], [1, 'C'], [1, 'D'], [1, 'E'], [2, 'A'], [2, 'B'], [2, 'C'], [2, 'D'], [2, 'E'], [3, 'A'], [3, 'B'], [3, 'C'], [3, 'D'], [3, 'E'], [4, 'A'], [4, 'B'], [4, 'C'], [4, 'D'], [4, 'E'], [5, 'A'], [5, 'B'], [5, 'C'], [5, 'D'], [5, 'E']]\n",
      "+++++++++++++++++++++++++++++++++++++++++++++++++++++++\n",
      "Dictionary for Squares {0: 0, 1: 1, 2: 4, 3: 9, 4: 16, 5: 25, 6: 36, 7: 49, 8: 64, 9: 81}\n",
      "+++++++++++++++++++++++++++++++++++++++++++++++++++++++\n",
      "{0: 'A', 1: 'B', 2: 'C', 3: 'D', 4: 'E', 5: 'F', 6: 'G', 7: 'H', 8: 'I', 9: 'J', 10: 'K'}\n"
     ]
    }
   ],
   "source": [
    "# List Comprehensions\n",
    "# Example 1 for numbers from 0 to 10 \n",
    "x = [a for a in range(10)]\n",
    "print(\"Numbers from 0 to 10\",x)\n",
    "print(\"+++++++++++++++++++++++++++++++++++++++++++++++++++++++\")\n",
    "\n",
    "\n",
    "\n",
    "# Example 2 for Even numbers only\n",
    "x = [a for a in range(10) if a % 2 == 0]\n",
    "print(\"Even Numbers\",x)\n",
    "print(\"+++++++++++++++++++++++++++++++++++++++++++++++++++++++\")\n",
    "\n",
    "\n",
    "\n",
    "# Example 2 for Odd numbers only\n",
    "x = [a for a in range(10) if a % 2 != 0]\n",
    "print(\"Odd Numbers \",x)\n",
    "print(\"+++++++++++++++++++++++++++++++++++++++++++++++++++++++\")\n",
    "\n",
    "\n",
    "# Example 3 \n",
    "nums = [1,2,3,4,5]\n",
    "letters = ['A','B','C','D','E']\n",
    "multiples = [[n,l] for n in nums for l in letters]\n",
    "print(multiples)\n",
    "print(\"+++++++++++++++++++++++++++++++++++++++++++++++++++++++\")\n",
    "\n",
    "\n",
    "\n",
    "# Dictionary Comprehension\n",
    "y = {x:x**2 for x in range(10) }\n",
    "print(\"Dictionary for Squares\",y)\n",
    "print(\"+++++++++++++++++++++++++++++++++++++++++++++++++++++++\")\n",
    "\n",
    "# creating dict using loop\n",
    "some_dict = {x:chr(65+x) for x in range(0,11)}\n",
    "print(some_dict)"
   ]
  },
  {
   "cell_type": "code",
   "execution_count": 94,
   "metadata": {},
   "outputs": [
    {
     "name": "stdout",
     "output_type": "stream",
     "text": [
      "[0, 2, 4, 6, 8, 10, 12, 14, 16, 18]\n",
      "[1, 3, 5, 7, 9, 11, 13, 15, 17, 19]\n",
      "10 is not a prime number\n",
      "5 times 2 is 10\n"
     ]
    },
    {
     "data": {
      "text/plain": [
       "[0, 1, 1, 2, 3, 5, 8, 13, 21, 34, 55]"
      ]
     },
     "execution_count": 94,
     "metadata": {},
     "output_type": "execute_result"
    }
   ],
   "source": [
    "# Functions\n",
    "def even(x):\n",
    "    evenList = [x for x in range(x* 2) if x % 2 == 0]\n",
    "    return evenList\n",
    "def odd(x):\n",
    "    oddList = [x for x in range(x* 2) if x % 2 != 0]\n",
    "    return oddList\n",
    "\n",
    "def isprime(num):\n",
    "    if num > 1:\n",
    "        for i in range(2,num):\n",
    "            if (num/2 )% i == 0:\n",
    "                print(num, \"is not a prime number\")\n",
    "                print(i,\"times\", num//i, \"is\", num)\n",
    "                break\n",
    "        else:\n",
    "            print(num, \"is a prime number\")\n",
    "def fabonacii(rang):\n",
    "    #print(\"0 1\")\n",
    "    a= 0\n",
    "    b= 1\n",
    "    fabList=list()\n",
    "    fabList.append(a)\n",
    "    fabList.append(b)\n",
    "    for i in range(1,rang):\n",
    "        c = a + b\n",
    "        fabList.append(c)\n",
    "        a= b \n",
    "        b = c\n",
    "    return fabList\n",
    "print(even(10)) # Start 10 Even Numbers\n",
    "print(odd(10)) # Start 10 Odd Numbers\n",
    "isprime(10)\n",
    "fabonacii(10)"
   ]
  },
  {
   "cell_type": "code",
   "execution_count": 108,
   "metadata": {},
   "outputs": [
    {
     "name": "stdout",
     "output_type": "stream",
     "text": [
      "Simple Matrxi Multiplication [17, 39]\n",
      "Matrix Multiplication using List Comprehension [[17], [39]]\n",
      "Matrix Multiplication using Library [[17]\n",
      " [39]]\n"
     ]
    }
   ],
   "source": [
    "\n",
    "# Matrix Multiplication Simple\n",
    "a = [[1, 2], [3, 4]]\n",
    "b= [[5] ,[6]]\n",
    "result = list()\n",
    "for r in a: \n",
    "    for c in zip(*b):\n",
    "        d = list()\n",
    "        for i, j in zip(r,c):  \n",
    "            d.append(i*j)\n",
    "        result.append(sum(d))\n",
    "print(\"Simple Matrxi Multiplication\",result)\n",
    "\n",
    "# Matrix Multiplication using List Comprehension\n",
    "def matrix_mult(a,b):\n",
    "    return [[sum(i * j for i, j in zip(r, c)) for c in zip(*b)] for r in a]\n",
    "result = matrix_mult(a,b)\n",
    "print(\"Matrix Multiplication using List Comprehension\",result)\n",
    "\n",
    "# Matrix Multiplication using Library\n",
    "import numpy as np\n",
    "c = np.matmul(a,b)\n",
    "print(\"Matrix Multiplication using Library\",c)"
   ]
  },
  {
   "cell_type": "code",
   "execution_count": null,
   "metadata": {},
   "outputs": [],
   "source": []
  },
  {
   "cell_type": "code",
   "execution_count": null,
   "metadata": {},
   "outputs": [],
   "source": [
    "\n"
   ]
  }
 ],
 "metadata": {
  "kernelspec": {
   "display_name": "Python [default]",
   "language": "python",
   "name": "python3"
  },
  "language_info": {
   "codemirror_mode": {
    "name": "ipython",
    "version": 3
   },
   "file_extension": ".py",
   "mimetype": "text/x-python",
   "name": "python",
   "nbconvert_exporter": "python",
   "pygments_lexer": "ipython3",
   "version": "3.5.5"
  }
 },
 "nbformat": 4,
 "nbformat_minor": 2
}
