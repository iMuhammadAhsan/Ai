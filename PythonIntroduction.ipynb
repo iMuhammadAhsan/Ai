{
 "cells": [
  {
   "cell_type": "markdown",
   "metadata": {
    "nbpresent": {
     "id": "443c97db-8846-4e75-ad8e-7b1f27dc56e6"
    }
   },
   "source": [
    "# Python Introductory Session "
   ]
  },
  {
   "cell_type": "markdown",
   "metadata": {
    "nbpresent": {
     "id": "a15323a4-f3f6-4ec4-86b3-d40a5af03deb"
    }
   },
   "source": [
    "### About Python\n",
    "\n",
    "#### Portability ---- Python runs everywhere, runs on every Operating System. Python takes care itself.\n",
    "#### Coherence ---- Most of the time you can guess how a method is called, if you dont know it.\n",
    "#### Developer Productivity ---- A python program is typically one fifth the size of equivalent Java or C++ programming languages\n",
    "#### An extensive library ---- Python community all around the world, free access to PYPI(Python Package Index)"
   ]
  },
  {
   "cell_type": "markdown",
   "metadata": {
    "nbpresent": {
     "id": "6210076f-2d1b-44b2-afbc-bae4db0be68d"
    }
   },
   "source": [
    "### Python 2 Versus Python 3 -- do check the difference in both of them"
   ]
  },
  {
   "cell_type": "markdown",
   "metadata": {
    "nbpresent": {
     "id": "2ce53708-a91e-41b9-a203-7c6d27acf0a5"
    }
   },
   "source": [
    "### Installing Python 3 -- Make sure python 3 is installed"
   ]
  },
  {
   "cell_type": "markdown",
   "metadata": {
    "nbpresent": {
     "id": "2f4df3fe-57a0-4612-b656-bed14618b433"
    }
   },
   "source": [
    "### Installing Anaconda and Jupyter Notebook"
   ]
  },
  {
   "cell_type": "code",
   "execution_count": 115,
   "metadata": {
    "nbpresent": {
     "id": "ebc7de73-a0a0-44b5-aa01-8d877b316d5f"
    }
   },
   "outputs": [
    {
     "name": "stdout",
     "output_type": "stream",
     "text": [
      "Python version 3.5.5 |Anaconda custom (64-bit)| (default, Mar 12 2018, 23:12:44) \n",
      "[GCC 7.2.0]\n"
     ]
    }
   ],
   "source": [
    "import sys\n",
    "print (\"Python version\",sys.version)"
   ]
  },
  {
   "cell_type": "markdown",
   "metadata": {
    "nbpresent": {
     "id": "cd2041dd-9f23-45ef-b001-e9a67d83ca20"
    }
   },
   "source": [
    "#### In python everything is an object --- Methods are things that an object can do.\n",
    "\n",
    "            \"Objects are Python's abstraction for data. All data in a Python program is represented\n",
    "                                    by objects or by relations between objects.\"\n"
   ]
  },
  {
   "cell_type": "markdown",
   "metadata": {
    "nbpresent": {
     "id": "34264fdf-1f03-4a67-9447-db7d140ee377"
    }
   },
   "source": [
    "# Getting Started"
   ]
  },
  {
   "cell_type": "markdown",
   "metadata": {
    "nbpresent": {
     "id": "c64f6430-bfbc-438a-b815-a73b28ffeb85"
    }
   },
   "source": [
    "### Two types Data type\n",
    "##### Immutables and Immutables\n",
    "\n",
    "#### Immutables Data types : Their address cannot be changed\n",
    "#### While Mutables Data Types : Their address can be changed \n"
   ]
  },
  {
   "cell_type": "code",
   "execution_count": 17,
   "metadata": {
    "nbpresent": {
     "id": "6675027a-eda4-40e4-b747-2a312511c8b3"
    }
   },
   "outputs": [
    {
     "name": "stdout",
     "output_type": "stream",
     "text": [
      "Person Age is  25\n",
      "Person Address in Memory 140161905610144 Person age Address in Memory 94211735126848\n",
      "++++++++++++++++++++++++++++++++++++\n",
      "Person Age is  26\n",
      "Person Address in Memory 140161905610144 Person age Address in Memory 94211735126880\n",
      "++++++++++++++++++++++++++++++++++++\n",
      "Notice that Person address In Memory is same while the age before it was pointing to 25 of Address in Memory \n",
      "But now it is pointing to 26 of Address in Memory\n"
     ]
    }
   ],
   "source": [
    "# Example for Mutable Data types\n",
    "\n",
    "class Person:\n",
    "    def __init__(self, age):\n",
    "        self.age= age\n",
    "\n",
    "fab= Person(age=25)\n",
    "print(\"Person Age is \",fab.age)\n",
    "print(\"Person Address in Memory\", id(fab),\"Person age Address in Memory\", id(fab.age))\n",
    "\n",
    "print(\"++++++++++++++++++++++++++++++++++++\")\n",
    "fab.age= 26  # here age is changed\n",
    "print(\"Person Age is \",fab.age)\n",
    "print(\"Person Address in Memory\", id(fab),\"Person age Address in Memory\", id(fab.age))\n",
    "print(\"++++++++++++++++++++++++++++++++++++\")\n",
    "\n",
    "print(\"Notice that Person address In Memory is same while the age before it was pointing to 25 of Address\" \n",
    "      \" in Memory \\nBut now it is pointing to 26 of Address in Memory\")"
   ]
  },
  {
   "cell_type": "code",
   "execution_count": 20,
   "metadata": {
    "nbpresent": {
     "id": "c0e24095-502b-4802-a763-2978f9cfa2b5"
    }
   },
   "outputs": [
    {
     "name": "stdout",
     "output_type": "stream",
     "text": [
      "94211735126368\n",
      "94211735126368\n",
      "94211735126432\n"
     ]
    }
   ],
   "source": [
    "# Example for Mutable Data Types\n",
    "x = 10\n",
    "print(id(x))\n",
    "y = 10\n",
    "print(id(y))\n",
    "\n",
    "x= 12 # here address is changed because x is pointing to 12 now\n",
    "print(id(x)) "
   ]
  },
  {
   "cell_type": "code",
   "execution_count": 35,
   "metadata": {
    "nbpresent": {
     "id": "9b3c146d-5a61-4bb0-a376-143963e846e5"
    }
   },
   "outputs": [
    {
     "name": "stdout",
     "output_type": "stream",
     "text": [
      "[1, 2, 2, 34, 54, 4, 1] <class 'list'> 140161974294920\n",
      "[1, 2, 2, 34, 54, 4, 1] <class 'list'> 140161974294920\n",
      "140161974294920 140161974294920\n"
     ]
    }
   ],
   "source": [
    "# Example for Immutable Data Types\n",
    "n = [1,2,2,34,54,4,1]\n",
    "print(n, type(n),id(n))\n",
    "m= n \n",
    "print(m, type(m), id(m))\n",
    "n.pop()\n",
    "print(id(n), id(m)) # Since poping Element from a list does not changes the address of list (Immutables)"
   ]
  },
  {
   "cell_type": "markdown",
   "metadata": {
    "nbpresent": {
     "id": "877ced7d-9cf2-4ccb-af5a-57d5d6bdb082"
    }
   },
   "source": [
    "### Lets start with the Data types"
   ]
  },
  {
   "cell_type": "code",
   "execution_count": 36,
   "metadata": {
    "nbpresent": {
     "id": "e46175ae-daf3-4ded-b00c-653984e0bea1"
    }
   },
   "outputs": [
    {
     "name": "stdout",
     "output_type": "stream",
     "text": [
      "2 <class 'int'>\n"
     ]
    }
   ],
   "source": [
    "# Integer\n",
    "a = 2 \n",
    "print(a, type(a))"
   ]
  },
  {
   "cell_type": "code",
   "execution_count": 44,
   "metadata": {
    "nbpresent": {
     "id": "b933e900-9c43-4acb-9cac-00974158c464"
    }
   },
   "outputs": [
    {
     "name": "stdout",
     "output_type": "stream",
     "text": [
      "Syed Kazim Hussain <class 'str'>\n",
      "S\n",
      "Syed Kazim\n",
      "ydKzm\n",
      "y z\n"
     ]
    }
   ],
   "source": [
    "# String \n",
    "name = \"Syed Kazim Hussain\"\n",
    "print(name, type(name))\n",
    "\n",
    "# Accessing element in string\n",
    "print(name[0]) # Zeroth element\n",
    "print(name[:10]) # from Zero to element 9, 10 exclusive\n",
    "print(name[1:10:2]) # from index 1 to 9 , steps 2(skip one element then other)\n",
    "print(name[1:10:3]) # from index 1 to 9"
   ]
  },
  {
   "cell_type": "code",
   "execution_count": 47,
   "metadata": {
    "nbpresent": {
     "id": "3cb9b48c-d6cf-44b7-ba55-2f273f1ded1e"
    }
   },
   "outputs": [
    {
     "name": "stdout",
     "output_type": "stream",
     "text": [
      "True <class 'bool'>\n",
      "True\n"
     ]
    }
   ],
   "source": [
    "# Boolean\n",
    "a = True\n",
    "print(a, type(a))\n",
    "a = 1 \n",
    "print(bool(a))"
   ]
  },
  {
   "cell_type": "code",
   "execution_count": 63,
   "metadata": {
    "nbpresent": {
     "id": "db7e77b8-dbfd-4e34-8e35-3a33219d336a"
    }
   },
   "outputs": [
    {
     "name": "stdout",
     "output_type": "stream",
     "text": [
      "[] <class 'list'>\n",
      "[1, 2, 3, 4, 5, 6, 7] <class 'list'>\n",
      "[0, 1, 2, 3, 4, 5, 6, 7, 8, 9] <class 'list'>\n",
      "['H', 'e', 'l', 'l', 'o', ' ', 'W', 'o', 'r', 'l', 'd'] <class 'list'>\n",
      "['H', 'e', 'l', 'l', 'o', ' ', 'W', 'o', 'r', 'l', 'd', '.']\n",
      "3\n",
      "5\n"
     ]
    }
   ],
   "source": [
    "# List\n",
    "# # way of initializing List\n",
    "a= list() \n",
    "print(a,type(a))\n",
    "\n",
    "b= [1,2,3,4,5,6,7]\n",
    "print(b,type(b))\n",
    "\n",
    "c = [x for x in range(10)]\n",
    "print(c,type(c))\n",
    "\n",
    "d = list(\"Hello World\")\n",
    "print(d,type(d))\n",
    "\n",
    "d.append('.')\n",
    "print(d)\n",
    "print(d.count('l'))\n",
    "\n",
    "\n",
    "str1= 'lets learning python' \n",
    "[d.append(x) for x in str1]\n",
    "print(d.count('l'))\n",
    "\n",
    "# more methods\n",
    "# t.index('K') tells the position of K\n",
    "# t.insert(0,'M') inserts M at 0 position\n",
    "# t.pop() remove last element in the list\n",
    "# t.remove('K') removes K from List\n",
    "# t.reverse() reverse the list\n",
    "# t.sort() sorts the list\n",
    "# t.clear() empty the list"
   ]
  },
  {
   "cell_type": "code",
   "execution_count": 69,
   "metadata": {
    "collapsed": true,
    "nbpresent": {
     "id": "54b38506-7d6f-4c71-bd36-a1ec965585e3"
    }
   },
   "outputs": [
    {
     "name": "stdout",
     "output_type": "stream",
     "text": [
      "iphone 4\n",
      "iphone 3GS\n",
      "iphone 3G\n",
      "iphone 5\n",
      "iphone 4S\n",
      "iphone\n",
      "++++++++++++++++++++++++++++++++++++++++++++++++++++++++++++++++++++++++++\n",
      "iphone 4 =>  2010\n",
      "iphone 3GS =>  2009\n",
      "iphone 3G =>  2008\n",
      "iphone 5 =>  2012\n",
      "iphone 4S =>  2011\n",
      "iphone =>  2007\n",
      "++++++++++++++++++++++++++++++++++++++++++++++++++++++++++++++++++++++++++\n",
      "2011\n",
      "kazim\n",
      "++++++++++++++++++++++++++++++++++++++++++++++++++++++++++++++++++++++++++\n",
      "<class 'dict'> {1: 1, 2: 4, 3: 9, 4: 16, 5: 25, 6: 36, 7: 49, 8: 64, 9: 81}\n",
      "++++++++++++++++++++++++++++++++++++++++++++++++++++++++++++++++++++++++++\n",
      "Are they all same?\n",
      "Yes\n"
     ]
    }
   ],
   "source": [
    "# Dictionary \n",
    "\n",
    "released = {\n",
    "\"iphone\" : 2007,\n",
    "\"iphone 3G\" : 2008,\n",
    "\"iphone 3GS\" : 2009,\n",
    "\"iphone 4\" : 2010,\n",
    "\"iphone 4S\" : 2011,\n",
    "\"iphone 5\" : 2012\n",
    "}\n",
    "\n",
    "for release in released:\n",
    "    print (release)\n",
    "    \n",
    "print(\"++++++++++++++++++++++++++++++++++++++++++++++++++++++++++++++++++++++++++\")\n",
    "for key,val in released.items():\n",
    "    print (key, \"=> \", val)\n",
    "    \n",
    "print(\"++++++++++++++++++++++++++++++++++++++++++++++++++++++++++++++++++++++++++\")\n",
    "\n",
    "if 'iphone 4S' in released:\n",
    "    print(released['iphone 4S'])\n",
    "    released['iphone 4S'] = 'kazim'\n",
    "    print(released['iphone 4S'])\n",
    "    \n",
    "    \n",
    "\n",
    "print(\"++++++++++++++++++++++++++++++++++++++++++++++++++++++++++++++++++++++++++\")\n",
    "testDict = {x: x**2 for x in range(1,10)}\n",
    "print(type(testDict),testDict)\n",
    "\n",
    "print(\"++++++++++++++++++++++++++++++++++++++++++++++++++++++++++++++++++++++++++\")\n",
    "\n",
    "# Ways of Initializing Dictionaries\n",
    "a = dict(A=1, Z=-1)\n",
    "b = {'A': 1, 'Z': -1}\n",
    "c = dict(zip(['A', 'Z'], [1, -1]))\n",
    "d = dict([('A', 1), ('Z', -1)])\n",
    "e = dict({'Z': -1, 'A': 1})\n",
    "print(\"Are they all same?\")\n",
    "print(\"Yes\") if a == b == c == d == e else print(\"No\") # Conditional Statement for "
   ]
  },
  {
   "cell_type": "code",
   "execution_count": 91,
   "metadata": {
    "nbpresent": {
     "id": "60cbb1a5-71cc-4c72-88a1-a95a610cb690"
    }
   },
   "outputs": [
    {
     "name": "stdout",
     "output_type": "stream",
     "text": [
      "Numbers from 0 to 10 [0, 1, 2, 3, 4, 5, 6, 7, 8, 9]\n",
      "+++++++++++++++++++++++++++++++++++++++++++++++++++++++\n",
      "Even Numbers [0, 2, 4, 6, 8]\n",
      "+++++++++++++++++++++++++++++++++++++++++++++++++++++++\n",
      "Odd Numbers  [1, 3, 5, 7, 9]\n",
      "+++++++++++++++++++++++++++++++++++++++++++++++++++++++\n",
      "[[1, 'A'], [1, 'B'], [1, 'C'], [1, 'D'], [1, 'E'], [2, 'A'], [2, 'B'], [2, 'C'], [2, 'D'], [2, 'E'], [3, 'A'], [3, 'B'], [3, 'C'], [3, 'D'], [3, 'E'], [4, 'A'], [4, 'B'], [4, 'C'], [4, 'D'], [4, 'E'], [5, 'A'], [5, 'B'], [5, 'C'], [5, 'D'], [5, 'E']]\n",
      "+++++++++++++++++++++++++++++++++++++++++++++++++++++++\n",
      "Dictionary for Squares {0: 0, 1: 1, 2: 4, 3: 9, 4: 16, 5: 25, 6: 36, 7: 49, 8: 64, 9: 81}\n",
      "+++++++++++++++++++++++++++++++++++++++++++++++++++++++\n",
      "{0: 'A', 1: 'B', 2: 'C', 3: 'D', 4: 'E', 5: 'F', 6: 'G', 7: 'H', 8: 'I', 9: 'J', 10: 'K'}\n"
     ]
    }
   ],
   "source": [
    "# List Comprehensions\n",
    "# Example 1 for numbers from 0 to 10 \n",
    "x = [a for a in range(10)]\n",
    "print(\"Numbers from 0 to 10\",x)\n",
    "print(\"+++++++++++++++++++++++++++++++++++++++++++++++++++++++\")\n",
    "\n",
    "\n",
    "\n",
    "# Example 2 for Even numbers only\n",
    "x = [a for a in range(10) if a % 2 == 0]\n",
    "print(\"Even Numbers\",x)\n",
    "print(\"+++++++++++++++++++++++++++++++++++++++++++++++++++++++\")\n",
    "\n",
    "\n",
    "\n",
    "# Example 2 for Odd numbers only\n",
    "x = [a for a in range(10) if a % 2 != 0]\n",
    "print(\"Odd Numbers \",x)\n",
    "print(\"+++++++++++++++++++++++++++++++++++++++++++++++++++++++\")\n",
    "\n",
    "\n",
    "# Example 3 \n",
    "nums = [1,2,3,4,5]\n",
    "letters = ['A','B','C','D','E']\n",
    "multiples = [[n,l] for n in nums for l in letters]\n",
    "print(multiples)\n",
    "print(\"+++++++++++++++++++++++++++++++++++++++++++++++++++++++\")\n",
    "\n",
    "\n",
    "\n",
    "# Dictionary Comprehension\n",
    "y = {x:x**2 for x in range(10) }\n",
    "print(\"Dictionary for Squares\",y)\n",
    "print(\"+++++++++++++++++++++++++++++++++++++++++++++++++++++++\")\n",
    "\n",
    "# creating dict using loop\n",
    "some_dict = {x:chr(65+x) for x in range(0,11)}\n",
    "print(some_dict)"
   ]
  },
  {
   "cell_type": "code",
   "execution_count": 94,
   "metadata": {
    "nbpresent": {
     "id": "38ae1f59-5261-4709-8e2a-e3096432c1e9"
    }
   },
   "outputs": [
    {
     "name": "stdout",
     "output_type": "stream",
     "text": [
      "[0, 2, 4, 6, 8, 10, 12, 14, 16, 18]\n",
      "[1, 3, 5, 7, 9, 11, 13, 15, 17, 19]\n",
      "10 is not a prime number\n",
      "5 times 2 is 10\n"
     ]
    },
    {
     "data": {
      "text/plain": [
       "[0, 1, 1, 2, 3, 5, 8, 13, 21, 34, 55]"
      ]
     },
     "execution_count": 94,
     "metadata": {},
     "output_type": "execute_result"
    }
   ],
   "source": [
    "# Functions\n",
    "def even(x):\n",
    "    evenList = [x for x in range(x* 2) if x % 2 == 0]\n",
    "    return evenList\n",
    "def odd(x):\n",
    "    oddList = [x for x in range(x* 2) if x % 2 != 0]\n",
    "    return oddList\n",
    "\n",
    "def isprime(num):\n",
    "    if num > 1:\n",
    "        for i in range(2,num):\n",
    "            if (num/2 )% i == 0:\n",
    "                print(num, \"is not a prime number\")\n",
    "                print(i,\"times\", num//i, \"is\", num)\n",
    "                break\n",
    "        else:\n",
    "            print(num, \"is a prime number\")\n",
    "def fabonacii(rang):\n",
    "    #print(\"0 1\")\n",
    "    a= 0\n",
    "    b= 1\n",
    "    fabList=list()\n",
    "    fabList.append(a)\n",
    "    fabList.append(b)\n",
    "    for i in range(1,rang):\n",
    "        c = a + b\n",
    "        fabList.append(c)\n",
    "        a= b \n",
    "        b = c\n",
    "    return fabList\n",
    "print(even(10)) # Start 10 Even Numbers\n",
    "print(odd(10)) # Start 10 Odd Numbers\n",
    "isprime(10)\n",
    "fabonacii(10)"
   ]
  },
  {
   "cell_type": "code",
   "execution_count": 108,
   "metadata": {
    "collapsed": true,
    "nbpresent": {
     "id": "03fbbbb5-dab3-4774-9f08-eb4093a702e3"
    }
   },
   "outputs": [
    {
     "name": "stdout",
     "output_type": "stream",
     "text": [
      "Simple Matrxi Multiplication [17, 39]\n",
      "Matrix Multiplication using List Comprehension [[17], [39]]\n",
      "Matrix Multiplication using Library [[17]\n",
      " [39]]\n"
     ]
    }
   ],
   "source": [
    "\n",
    "# Matrix Multiplication Simple\n",
    "a = [[1, 2], [3, 4]]\n",
    "b= [[5] ,[6]]\n",
    "result = list()\n",
    "for r in a: \n",
    "    for c in zip(*b):\n",
    "        d = list()\n",
    "        for i, j in zip(r,c):  \n",
    "            d.append(i*j)\n",
    "        result.append(sum(d))\n",
    "print(\"Simple Matrix Multiplication\",result)\n",
    "\n",
    "# Matrix Multiplication using List Comprehension\n",
    "def matrix_mult(a,b):\n",
    "    return [[sum(i * j for i, j in zip(r, c)) for c in zip(*b)] for r in a]\n",
    "result = matrix_mult(a,b)\n",
    "print(\"Matrix Multiplication using List Comprehension\",result)\n",
    "\n",
    "# Matrix Multiplication using Library\n",
    "import numpy as np\n",
    "c = np.matmul(a,b)\n",
    "print(\"Matrix Multiplication using Library\",c)"
   ]
  },
  {
   "cell_type": "code",
   "execution_count": 15,
   "metadata": {
    "nbpresent": {
     "id": "9187c7ab-8c51-4b34-9fac-09e6cb85be2b"
    }
   },
   "outputs": [
    {
     "name": "stdout",
     "output_type": "stream",
     "text": [
      "8 <class 'function'>\n",
      "8\n",
      "[4, 6, 8, 12]\n",
      "[2, 10, 8, 12, 16, 22, 6, 24]\n"
     ]
    }
   ],
   "source": [
    "# lambda Functions \n",
    "double = lambda x : x*2 # double is function\n",
    "print(double(4),type(double))\n",
    "\n",
    "# Above function is same as \n",
    "def double(x):\n",
    "    return x * 2\n",
    "print(double(4))\n",
    "\n",
    "# Some more Examples \n",
    "\n",
    "# Example 1 \n",
    "my_list = [1, 5, 4, 6, 8, 11, 3, 12]\n",
    "new_list = list(filter(lambda x: (x%2 == 0) , my_list))\n",
    "print(new_list)\n",
    "\n",
    "# Example 2 \n",
    "my_list = [1, 5, 4, 6, 8, 11, 3, 12]\n",
    "new_list = list(map(lambda x: x * 2 , my_list))\n",
    "print(new_list)"
   ]
  },
  {
   "cell_type": "code",
   "execution_count": null,
   "metadata": {
    "nbpresent": {
     "id": "a429b5b2-7dac-4885-aac3-14ca39122995"
    }
   },
   "outputs": [],
   "source": []
  },
  {
   "cell_type": "code",
   "execution_count": null,
   "metadata": {},
   "outputs": [],
   "source": []
  }
 ],
 "metadata": {
  "kernelspec": {
   "display_name": "Python [default]",
   "language": "python",
   "name": "python3"
  },
  "language_info": {
   "codemirror_mode": {
    "name": "ipython",
    "version": 3
   },
   "file_extension": ".py",
   "mimetype": "text/x-python",
   "name": "python",
   "nbconvert_exporter": "python",
   "pygments_lexer": "ipython3",
   "version": "3.5.5"
  },
  "nbpresent": {
   "slides": {
    "0724360c-95c7-42c5-b859-711ca42a8618": {
     "id": "0724360c-95c7-42c5-b859-711ca42a8618",
     "prev": "7ca9b105-7941-4b0f-9c96-48c26d236f78",
     "regions": {
      "825b1358-a525-4701-9e59-708aea11f8db": {
       "attrs": {
        "height": 0.8,
        "width": 0.8,
        "x": 0.1,
        "y": 0.1
       },
       "content": {
        "cell": "a429b5b2-7dac-4885-aac3-14ca39122995",
        "part": "whole"
       },
       "id": "825b1358-a525-4701-9e59-708aea11f8db"
      }
     }
    },
    "16f0a84c-cca9-4a81-90d0-0f7d32cbbbb5": {
     "id": "16f0a84c-cca9-4a81-90d0-0f7d32cbbbb5",
     "prev": "87754ed3-4e99-4416-8a09-c24cb8b421a1",
     "regions": {
      "0173a90c-4df3-4dc2-9ad0-b07933cb1035": {
       "attrs": {
        "height": 0.8,
        "width": 0.8,
        "x": 0.1,
        "y": 0.1
       },
       "content": {
        "cell": "cd2041dd-9f23-45ef-b001-e9a67d83ca20",
        "part": "whole"
       },
       "id": "0173a90c-4df3-4dc2-9ad0-b07933cb1035"
      }
     }
    },
    "1d63e990-f5f8-4bc3-9bb3-1dd43aba81cb": {
     "id": "1d63e990-f5f8-4bc3-9bb3-1dd43aba81cb",
     "prev": "5b16f0c7-7a99-4b5a-bdae-2eeb24d307e8",
     "regions": {
      "a42436d2-a8b6-477a-8068-a2a1961d05ac": {
       "attrs": {
        "height": 0.8,
        "width": 0.8,
        "x": 0.1,
        "y": 0.1
       },
       "content": {
        "cell": "c0e24095-502b-4802-a763-2978f9cfa2b5",
        "part": "whole"
       },
       "id": "a42436d2-a8b6-477a-8068-a2a1961d05ac"
      }
     }
    },
    "1e737975-9ec5-46ff-97a6-35323ed766b7": {
     "id": "1e737975-9ec5-46ff-97a6-35323ed766b7",
     "prev": "561d11fe-5191-40c1-b84b-8fd7d02639e2",
     "regions": {
      "ae573d54-9717-4bda-be49-d63db534ca99": {
       "attrs": {
        "height": 0.8,
        "width": 0.8,
        "x": 0.1,
        "y": 0.1
       },
       "content": {
        "cell": "03fbbbb5-dab3-4774-9f08-eb4093a702e3",
        "part": "whole"
       },
       "id": "ae573d54-9717-4bda-be49-d63db534ca99"
      }
     }
    },
    "24a61f6f-3076-42b3-9935-38306eba8418": {
     "id": "24a61f6f-3076-42b3-9935-38306eba8418",
     "prev": "929fc2c8-7de6-4c17-b692-cfb8b3b4e1eb",
     "regions": {
      "15aa2125-4b07-45f7-bee7-b9463a00dc27": {
       "attrs": {
        "height": 0.8,
        "width": 0.8,
        "x": 0.1,
        "y": 0.1
       },
       "content": {
        "cell": "e46175ae-daf3-4ded-b00c-653984e0bea1",
        "part": "whole"
       },
       "id": "15aa2125-4b07-45f7-bee7-b9463a00dc27"
      }
     }
    },
    "29109460-04eb-4063-8f23-265d14790b37": {
     "id": "29109460-04eb-4063-8f23-265d14790b37",
     "prev": "52b6ce1d-93d3-4315-ad59-13777dac42fa",
     "regions": {
      "00d82106-9fd8-489a-9c76-6a3d7a51192a": {
       "attrs": {
        "height": 0.8,
        "width": 0.8,
        "x": 0.1,
        "y": 0.1
       },
       "content": {
        "cell": "c64f6430-bfbc-438a-b815-a73b28ffeb85",
        "part": "whole"
       },
       "id": "00d82106-9fd8-489a-9c76-6a3d7a51192a"
      }
     }
    },
    "52b6ce1d-93d3-4315-ad59-13777dac42fa": {
     "id": "52b6ce1d-93d3-4315-ad59-13777dac42fa",
     "prev": "16f0a84c-cca9-4a81-90d0-0f7d32cbbbb5",
     "regions": {
      "710f90f0-5072-4119-bf9f-4ed04759a112": {
       "attrs": {
        "height": 0.8,
        "width": 0.8,
        "x": 0.1,
        "y": 0.1
       },
       "content": {
        "cell": "34264fdf-1f03-4a67-9447-db7d140ee377",
        "part": "whole"
       },
       "id": "710f90f0-5072-4119-bf9f-4ed04759a112"
      }
     }
    },
    "561d11fe-5191-40c1-b84b-8fd7d02639e2": {
     "id": "561d11fe-5191-40c1-b84b-8fd7d02639e2",
     "prev": "cc078ae2-b439-4888-9658-1c19cf57ab92",
     "regions": {
      "c166d3d8-9a9a-46c1-bf39-ae921b142056": {
       "attrs": {
        "height": 0.8,
        "width": 0.8,
        "x": 0.1,
        "y": 0.1
       },
       "content": {
        "cell": "38ae1f59-5261-4709-8e2a-e3096432c1e9",
        "part": "whole"
       },
       "id": "c166d3d8-9a9a-46c1-bf39-ae921b142056"
      }
     }
    },
    "5b16f0c7-7a99-4b5a-bdae-2eeb24d307e8": {
     "id": "5b16f0c7-7a99-4b5a-bdae-2eeb24d307e8",
     "prev": "29109460-04eb-4063-8f23-265d14790b37",
     "regions": {
      "181c2300-915b-4a85-97dd-c7205cc950c2": {
       "attrs": {
        "height": 0.8,
        "width": 0.8,
        "x": 0.1,
        "y": 0.1
       },
       "content": {
        "cell": "6675027a-eda4-40e4-b747-2a312511c8b3",
        "part": "whole"
       },
       "id": "181c2300-915b-4a85-97dd-c7205cc950c2"
      }
     }
    },
    "62e27106-35f9-433b-aafb-8496fc75d69a": {
     "id": "62e27106-35f9-433b-aafb-8496fc75d69a",
     "prev": "9f5ca99d-1e79-40ac-ae54-4b807736acbf",
     "regions": {
      "f07e4568-6cbc-4faf-bf30-aaf5f5de0b65": {
       "attrs": {
        "height": 0.8,
        "width": 0.8,
        "x": 0.1,
        "y": 0.1
       },
       "content": {
        "cell": "3cb9b48c-d6cf-44b7-ba55-2f273f1ded1e",
        "part": "whole"
       },
       "id": "f07e4568-6cbc-4faf-bf30-aaf5f5de0b65"
      }
     }
    },
    "65bcfdc2-ec6f-46e5-bf39-232bfda5794e": {
     "id": "65bcfdc2-ec6f-46e5-bf39-232bfda5794e",
     "prev": "958efa25-6487-46c8-8340-1fed524d80e1",
     "regions": {
      "42eb2ff5-ba9a-4d1e-ac6e-dd305f84c93c": {
       "attrs": {
        "height": 0.8,
        "width": 0.8,
        "x": 0.1,
        "y": 0.1
       },
       "content": {
        "cell": "2ce53708-a91e-41b9-a203-7c6d27acf0a5",
        "part": "whole"
       },
       "id": "42eb2ff5-ba9a-4d1e-ac6e-dd305f84c93c"
      }
     }
    },
    "7ca9b105-7941-4b0f-9c96-48c26d236f78": {
     "id": "7ca9b105-7941-4b0f-9c96-48c26d236f78",
     "prev": "1e737975-9ec5-46ff-97a6-35323ed766b7",
     "regions": {
      "bab8dc3c-9b4d-43cc-8626-084f2d973e81": {
       "attrs": {
        "height": 0.8,
        "width": 0.8,
        "x": 0.1,
        "y": 0.1
       },
       "content": {
        "cell": "9187c7ab-8c51-4b34-9fac-09e6cb85be2b",
        "part": "whole"
       },
       "id": "bab8dc3c-9b4d-43cc-8626-084f2d973e81"
      }
     }
    },
    "7e88a72f-3424-4007-bd51-dc01ad964932": {
     "id": "7e88a72f-3424-4007-bd51-dc01ad964932",
     "prev": "fe8b2cdb-3192-44ad-8866-54bd1e2c9d9d",
     "regions": {
      "4eb2c3c5-8451-44f3-93d8-24b8942c4584": {
       "attrs": {
        "height": 0.8,
        "width": 0.8,
        "x": 0.1,
        "y": 0.1
       },
       "content": {
        "cell": "a15323a4-f3f6-4ec4-86b3-d40a5af03deb",
        "part": "whole"
       },
       "id": "4eb2c3c5-8451-44f3-93d8-24b8942c4584"
      }
     }
    },
    "87754ed3-4e99-4416-8a09-c24cb8b421a1": {
     "id": "87754ed3-4e99-4416-8a09-c24cb8b421a1",
     "prev": "ee5c3f55-d01d-4548-a5df-3553f829715d",
     "regions": {
      "56b488b0-ef9c-4407-b396-82a204c5c2cf": {
       "attrs": {
        "height": 0.8,
        "width": 0.8,
        "x": 0.1,
        "y": 0.1
       },
       "content": {
        "cell": "ebc7de73-a0a0-44b5-aa01-8d877b316d5f",
        "part": "whole"
       },
       "id": "56b488b0-ef9c-4407-b396-82a204c5c2cf"
      }
     }
    },
    "929fc2c8-7de6-4c17-b692-cfb8b3b4e1eb": {
     "id": "929fc2c8-7de6-4c17-b692-cfb8b3b4e1eb",
     "prev": "e6c825c1-3e4d-487f-808c-b50783a823b8",
     "regions": {
      "bf4092d3-17f6-467b-b870-66829d61c85a": {
       "attrs": {
        "height": 0.8,
        "width": 0.8,
        "x": 0.1,
        "y": 0.1
       },
       "content": {
        "cell": "877ced7d-9cf2-4ccb-af5a-57d5d6bdb082",
        "part": "whole"
       },
       "id": "bf4092d3-17f6-467b-b870-66829d61c85a"
      }
     }
    },
    "958efa25-6487-46c8-8340-1fed524d80e1": {
     "id": "958efa25-6487-46c8-8340-1fed524d80e1",
     "prev": "7e88a72f-3424-4007-bd51-dc01ad964932",
     "regions": {
      "3bd115fa-4519-47fa-8720-d713b7c0f374": {
       "attrs": {
        "height": 0.8,
        "width": 0.8,
        "x": 0.1,
        "y": 0.1
       },
       "content": {
        "cell": "6210076f-2d1b-44b2-afbc-bae4db0be68d",
        "part": "whole"
       },
       "id": "3bd115fa-4519-47fa-8720-d713b7c0f374"
      }
     }
    },
    "9f5ca99d-1e79-40ac-ae54-4b807736acbf": {
     "id": "9f5ca99d-1e79-40ac-ae54-4b807736acbf",
     "prev": "24a61f6f-3076-42b3-9935-38306eba8418",
     "regions": {
      "a00e7bf4-a66e-4b07-b7f5-13733c6ba02c": {
       "attrs": {
        "height": 0.8,
        "width": 0.8,
        "x": 0.1,
        "y": 0.1
       },
       "content": {
        "cell": "b933e900-9c43-4acb-9cac-00974158c464",
        "part": "whole"
       },
       "id": "a00e7bf4-a66e-4b07-b7f5-13733c6ba02c"
      }
     }
    },
    "af6dd212-b659-42c6-a975-42cd80e3774b": {
     "id": "af6dd212-b659-42c6-a975-42cd80e3774b",
     "prev": "62e27106-35f9-433b-aafb-8496fc75d69a",
     "regions": {
      "59be5f18-df62-427c-87cc-ccad77ba3192": {
       "attrs": {
        "height": 0.8,
        "width": 0.8,
        "x": 0.1,
        "y": 0.1
       },
       "content": {
        "cell": "db7e77b8-dbfd-4e34-8e35-3a33219d336a",
        "part": "whole"
       },
       "id": "59be5f18-df62-427c-87cc-ccad77ba3192"
      }
     }
    },
    "cc078ae2-b439-4888-9658-1c19cf57ab92": {
     "id": "cc078ae2-b439-4888-9658-1c19cf57ab92",
     "prev": "d1f186fd-1b6d-40d7-b152-f3df49d67ea5",
     "regions": {
      "9392c739-581a-4e8e-b14a-31c72d685f21": {
       "attrs": {
        "height": 0.8,
        "width": 0.8,
        "x": 0.1,
        "y": 0.1
       },
       "content": {
        "cell": "60cbb1a5-71cc-4c72-88a1-a95a610cb690",
        "part": "whole"
       },
       "id": "9392c739-581a-4e8e-b14a-31c72d685f21"
      }
     }
    },
    "d1f186fd-1b6d-40d7-b152-f3df49d67ea5": {
     "id": "d1f186fd-1b6d-40d7-b152-f3df49d67ea5",
     "prev": "af6dd212-b659-42c6-a975-42cd80e3774b",
     "regions": {
      "cd4ffdd8-fce2-4c32-84d5-d098c4083a00": {
       "attrs": {
        "height": 0.8,
        "width": 0.8,
        "x": 0.1,
        "y": 0.1
       },
       "content": {
        "cell": "54b38506-7d6f-4c71-bd36-a1ec965585e3",
        "part": "whole"
       },
       "id": "cd4ffdd8-fce2-4c32-84d5-d098c4083a00"
      }
     }
    },
    "e6c825c1-3e4d-487f-808c-b50783a823b8": {
     "id": "e6c825c1-3e4d-487f-808c-b50783a823b8",
     "prev": "1d63e990-f5f8-4bc3-9bb3-1dd43aba81cb",
     "regions": {
      "d0867ef6-1521-43fb-a8b2-f8d131b34501": {
       "attrs": {
        "height": 0.8,
        "width": 0.8,
        "x": 0.1,
        "y": 0.1
       },
       "content": {
        "cell": "9b3c146d-5a61-4bb0-a376-143963e846e5",
        "part": "whole"
       },
       "id": "d0867ef6-1521-43fb-a8b2-f8d131b34501"
      }
     }
    },
    "ee5c3f55-d01d-4548-a5df-3553f829715d": {
     "id": "ee5c3f55-d01d-4548-a5df-3553f829715d",
     "prev": "65bcfdc2-ec6f-46e5-bf39-232bfda5794e",
     "regions": {
      "e4efedfc-c005-4dff-a36e-76d456537d8e": {
       "attrs": {
        "height": 0.8,
        "width": 0.8,
        "x": 0.1,
        "y": 0.1
       },
       "content": {
        "cell": "2f4df3fe-57a0-4612-b656-bed14618b433",
        "part": "whole"
       },
       "id": "e4efedfc-c005-4dff-a36e-76d456537d8e"
      }
     }
    },
    "fe8b2cdb-3192-44ad-8866-54bd1e2c9d9d": {
     "id": "fe8b2cdb-3192-44ad-8866-54bd1e2c9d9d",
     "prev": null,
     "regions": {
      "1380d155-6277-4c33-b463-71ad4fde788f": {
       "attrs": {
        "height": 0.8,
        "width": 0.8,
        "x": 0.1,
        "y": 0.1
       },
       "content": {
        "cell": "443c97db-8846-4e75-ad8e-7b1f27dc56e6",
        "part": "whole"
       },
       "id": "1380d155-6277-4c33-b463-71ad4fde788f"
      }
     }
    }
   },
   "themes": {}
  }
 },
 "nbformat": 4,
 "nbformat_minor": 2
}
